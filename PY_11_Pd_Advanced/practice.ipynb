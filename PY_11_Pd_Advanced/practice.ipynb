{
 "cells": [
  {
   "cell_type": "code",
   "execution_count": null,
   "metadata": {},
   "outputs": [],
   "source": [
    "import pandas as pd\n",
    "\n",
    "melb_df = pd.read_csv('data/melb_data_fe.csv')\n",
    "melb_df.head()"
   ]
  },
  {
   "cell_type": "code",
   "execution_count": 18,
   "metadata": {},
   "outputs": [],
   "source": [
    "melb_df['Date'] = pd.to_datetime(melb_df['Date'])\n",
    "quarter = melb_df['Date'].dt.quarter"
   ]
  },
  {
   "cell_type": "code",
   "execution_count": 19,
   "metadata": {},
   "outputs": [],
   "source": [
    "exclude = ['Car', 'Bathroom', 'Bedroom', 'Date', 'Rooms']\n",
    "for col in melb_df.columns:\n",
    "    if col not in exclude and melb_df[col].nunique() < 150:\n",
    "        melb_df[col] = melb_df[col].astype('category')"
   ]
  },
  {
   "cell_type": "code",
   "execution_count": null,
   "metadata": {},
   "outputs": [],
   "source": [
    "melb_df.sort_values(by=['Price', 'Distance'], ignore_index=True).loc[::10, ['Distance', 'Price']]"
   ]
  },
  {
   "cell_type": "code",
   "execution_count": null,
   "metadata": {},
   "outputs": [],
   "source": [
    "mask1 = melb_df['AreaRatio'] < -0.8\n",
    "mask2 = melb_df['Type'] == 'townhouse'\n",
    "mask3 = melb_df['SellerG'] == 'McGrath'\n",
    "melb_df[mask1 & mask2 & mask3].sort_values(\n",
    "    by=['Date', 'AreaRatio'],\n",
    "    ascending=[True, False],\n",
    "    ignore_index=True\n",
    ").loc[:, ['Date', 'AreaRatio']]"
   ]
  },
  {
   "cell_type": "code",
   "execution_count": 22,
   "metadata": {},
   "outputs": [
    {
     "data": {
      "text/plain": [
       "126.0"
      ]
     },
     "execution_count": 22,
     "metadata": {},
     "output_type": "execute_result"
    }
   ],
   "source": [
    "melb_df.sort_values(by='AreaRatio').loc[1558, 'BuildingArea']"
   ]
  },
  {
   "cell_type": "code",
   "execution_count": 23,
   "metadata": {},
   "outputs": [
    {
     "data": {
      "text/plain": [
       "1300000.0"
      ]
     },
     "execution_count": 23,
     "metadata": {},
     "output_type": "execute_result"
    }
   ],
   "source": [
    "mask1 = melb_df['Rooms'] > 2\n",
    "mask2 = melb_df['Type'] == 'townhouse'\n",
    "melb_df[mask1 & mask2].sort_values(\n",
    "    by=['Rooms', 'MeanRoomsSquare'],\n",
    "    ascending=[True, False],\n",
    "    ignore_index=True\n",
    ").loc[18, 'Price']"
   ]
  },
  {
   "cell_type": "code",
   "execution_count": null,
   "metadata": {},
   "outputs": [],
   "source": [
    "melb_df.groupby('Regionname')['Lattitude'].std().sort_values(ascending=False)"
   ]
  },
  {
   "cell_type": "code",
   "execution_count": null,
   "metadata": {},
   "outputs": [],
   "source": [
    "melb_df.groupby('Regionname')['SellerG'].agg(\n",
    "    \t\t['nunique', set]\n",
    ")"
   ]
  },
  {
   "cell_type": "code",
   "execution_count": 40,
   "metadata": {},
   "outputs": [
    {
     "data": {
      "text/html": [
       "<div>\n",
       "<style scoped>\n",
       "    .dataframe tbody tr th:only-of-type {\n",
       "        vertical-align: middle;\n",
       "    }\n",
       "\n",
       "    .dataframe tbody tr th {\n",
       "        vertical-align: top;\n",
       "    }\n",
       "\n",
       "    .dataframe thead tr th {\n",
       "        text-align: left;\n",
       "    }\n",
       "\n",
       "    .dataframe thead tr:last-of-type th {\n",
       "        text-align: right;\n",
       "    }\n",
       "</style>\n",
       "<table border=\"1\" class=\"dataframe\">\n",
       "  <thead>\n",
       "    <tr>\n",
       "      <th></th>\n",
       "      <th colspan=\"3\" halign=\"left\">median</th>\n",
       "      <th colspan=\"3\" halign=\"left\">mean</th>\n",
       "    </tr>\n",
       "    <tr>\n",
       "      <th>Type</th>\n",
       "      <th>house</th>\n",
       "      <th>townhouse</th>\n",
       "      <th>unit</th>\n",
       "      <th>house</th>\n",
       "      <th>townhouse</th>\n",
       "      <th>unit</th>\n",
       "    </tr>\n",
       "    <tr>\n",
       "      <th>Regionname</th>\n",
       "      <th></th>\n",
       "      <th></th>\n",
       "      <th></th>\n",
       "      <th></th>\n",
       "      <th></th>\n",
       "      <th></th>\n",
       "    </tr>\n",
       "  </thead>\n",
       "  <tbody>\n",
       "    <tr>\n",
       "      <th>Eastern Metropolitan</th>\n",
       "      <td>674.0</td>\n",
       "      <td>233.5</td>\n",
       "      <td>203</td>\n",
       "      <td>717.422847</td>\n",
       "      <td>269.440678</td>\n",
       "      <td>330.444444</td>\n",
       "    </tr>\n",
       "    <tr>\n",
       "      <th>Eastern Victoria</th>\n",
       "      <td>843.0</td>\n",
       "      <td>0.0</td>\n",
       "      <td>230</td>\n",
       "      <td>3108.960000</td>\n",
       "      <td>0.000000</td>\n",
       "      <td>295.333333</td>\n",
       "    </tr>\n",
       "    <tr>\n",
       "      <th>Northern Metropolitan</th>\n",
       "      <td>459.5</td>\n",
       "      <td>134.0</td>\n",
       "      <td>0</td>\n",
       "      <td>619.249092</td>\n",
       "      <td>317.325733</td>\n",
       "      <td>495.026538</td>\n",
       "    </tr>\n",
       "    <tr>\n",
       "      <th>Northern Victoria</th>\n",
       "      <td>724.0</td>\n",
       "      <td>0.0</td>\n",
       "      <td>0</td>\n",
       "      <td>3355.463415</td>\n",
       "      <td>0.000000</td>\n",
       "      <td>0.000000</td>\n",
       "    </tr>\n",
       "    <tr>\n",
       "      <th>South-Eastern Metropolitan</th>\n",
       "      <td>630.5</td>\n",
       "      <td>240.0</td>\n",
       "      <td>199</td>\n",
       "      <td>664.306701</td>\n",
       "      <td>212.160000</td>\n",
       "      <td>357.864865</td>\n",
       "    </tr>\n",
       "    <tr>\n",
       "      <th>Southern Metropolitan</th>\n",
       "      <td>586.0</td>\n",
       "      <td>246.0</td>\n",
       "      <td>0</td>\n",
       "      <td>569.643881</td>\n",
       "      <td>278.858824</td>\n",
       "      <td>466.380245</td>\n",
       "    </tr>\n",
       "    <tr>\n",
       "      <th>Western Metropolitan</th>\n",
       "      <td>531.0</td>\n",
       "      <td>198.0</td>\n",
       "      <td>62</td>\n",
       "      <td>507.883406</td>\n",
       "      <td>244.560669</td>\n",
       "      <td>557.637232</td>\n",
       "    </tr>\n",
       "    <tr>\n",
       "      <th>Western Victoria</th>\n",
       "      <td>599.5</td>\n",
       "      <td>0.0</td>\n",
       "      <td>0</td>\n",
       "      <td>655.500000</td>\n",
       "      <td>0.000000</td>\n",
       "      <td>0.000000</td>\n",
       "    </tr>\n",
       "  </tbody>\n",
       "</table>\n",
       "</div>"
      ],
      "text/plain": [
       "                           median                        mean               \n",
       "Type                        house townhouse unit        house   townhouse   \n",
       "Regionname                                                                  \n",
       "Eastern Metropolitan        674.0     233.5  203   717.422847  269.440678  \\\n",
       "Eastern Victoria            843.0       0.0  230  3108.960000    0.000000   \n",
       "Northern Metropolitan       459.5     134.0    0   619.249092  317.325733   \n",
       "Northern Victoria           724.0       0.0    0  3355.463415    0.000000   \n",
       "South-Eastern Metropolitan  630.5     240.0  199   664.306701  212.160000   \n",
       "Southern Metropolitan       586.0     246.0    0   569.643881  278.858824   \n",
       "Western Metropolitan        531.0     198.0   62   507.883406  244.560669   \n",
       "Western Victoria            599.5       0.0    0   655.500000    0.000000   \n",
       "\n",
       "                                        \n",
       "Type                              unit  \n",
       "Regionname                              \n",
       "Eastern Metropolitan        330.444444  \n",
       "Eastern Victoria            295.333333  \n",
       "Northern Metropolitan       495.026538  \n",
       "Northern Victoria             0.000000  \n",
       "South-Eastern Metropolitan  357.864865  \n",
       "Southern Metropolitan       466.380245  \n",
       "Western Metropolitan        557.637232  \n",
       "Western Victoria              0.000000  "
      ]
     },
     "execution_count": 40,
     "metadata": {},
     "output_type": "execute_result"
    }
   ],
   "source": [
    "melb_df.pivot_table(\n",
    "    values='Landsize',\n",
    "    index='Regionname',\n",
    "    columns='Type',\n",
    "    aggfunc=['median', 'mean'],\n",
    "    fill_value=0\n",
    ")"
   ]
  },
  {
   "cell_type": "code",
   "execution_count": null,
   "metadata": {},
   "outputs": [],
   "source": []
  }
 ],
 "metadata": {
  "kernelspec": {
   "display_name": "Python 3",
   "language": "python",
   "name": "python3"
  },
  "language_info": {
   "codemirror_mode": {
    "name": "ipython",
    "version": 3
   },
   "file_extension": ".py",
   "mimetype": "text/x-python",
   "name": "python",
   "nbconvert_exporter": "python",
   "pygments_lexer": "ipython3",
   "version": "3.11.2"
  },
  "orig_nbformat": 4
 },
 "nbformat": 4,
 "nbformat_minor": 2
}
