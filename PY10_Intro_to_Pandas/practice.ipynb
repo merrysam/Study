{
 "cells": [
  {
   "cell_type": "code",
   "execution_count": 38,
   "metadata": {},
   "outputs": [],
   "source": [
    "import pandas as pd"
   ]
  },
  {
   "cell_type": "code",
   "execution_count": null,
   "metadata": {},
   "outputs": [],
   "source": [
    "velo_data = pd.read_csv('data/citibike-tripdata.csv', sep=',')\n",
    "velo_df = velo_data.copy()\n",
    "velo_df"
   ]
  },
  {
   "cell_type": "code",
   "execution_count": null,
   "metadata": {},
   "outputs": [],
   "source": [
    "velo_df['end station name'].value_counts(normalize=True)"
   ]
  },
  {
   "cell_type": "code",
   "execution_count": 4,
   "metadata": {},
   "outputs": [],
   "source": [
    "velo_df.drop(['start station id', 'end station id'], axis=1, inplace=True)"
   ]
  },
  {
   "cell_type": "code",
   "execution_count": null,
   "metadata": {},
   "outputs": [],
   "source": [
    "velo_df['age'] = 2018 - velo_df['birth year']\n",
    "velo_df[velo_df['age'] > 60]['age']"
   ]
  },
  {
   "cell_type": "code",
   "execution_count": 40,
   "metadata": {},
   "outputs": [
    {
     "data": {
      "text/plain": [
       "7"
      ]
     },
     "execution_count": 40,
     "metadata": {},
     "output_type": "execute_result"
    }
   ],
   "source": [
    "velo_df['starttime'] = pd.to_datetime(velo_df['starttime'])\n",
    "velo_df['stoptime'] = pd.to_datetime(velo_df['stoptime'])\n",
    "velo_df['trip duration'] = velo_df['stoptime'] - velo_df['starttime']\n",
    "velo_df['trip duration'].dt.seconds.iloc[3]//60"
   ]
  },
  {
   "cell_type": "code",
   "execution_count": 46,
   "metadata": {},
   "outputs": [
    {
     "data": {
      "text/plain": [
       "weekend\n",
       "0    184865\n",
       "1    115135\n",
       "Name: count, dtype: int64"
      ]
     },
     "execution_count": 46,
     "metadata": {},
     "output_type": "execute_result"
    }
   ],
   "source": [
    "velo_df['weekday'] = velo_df['starttime'].dt.dayofweek\n",
    "velo_df['weekend'] = velo_df['weekday'].apply(lambda x: 1 if x == 5 or x == 6 else 0)\n",
    "velo_df['weekend'].value_counts()\n"
   ]
  },
  {
   "cell_type": "code",
   "execution_count": 60,
   "metadata": {},
   "outputs": [
    {
     "data": {
      "text/plain": [
       "9.480411004308916"
      ]
     },
     "execution_count": 60,
     "metadata": {},
     "output_type": "execute_result"
    }
   ],
   "source": [
    "def get_time(hour):\n",
    "    if hour >= 0 and hour <= 6:\n",
    "        return 'night'\n",
    "    if hour > 6 and hour <= 12:\n",
    "        return 'morning'\n",
    "    if hour > 12 and hour <= 18:\n",
    "        return 'day'\n",
    "    if hour > 18 and hour <= 23:\n",
    "        return 'evening'\n",
    "velo_df['time_of_day'] = velo_df['starttime'].dt.hour.apply(get_time)\n",
    "len(velo_df[velo_df['time_of_day'] == 'day']) / len(velo_df[velo_df['time_of_day'] == 'night'])"
   ]
  },
  {
   "cell_type": "code",
   "execution_count": null,
   "metadata": {},
   "outputs": [],
   "source": []
  }
 ],
 "metadata": {
  "kernelspec": {
   "display_name": "Python 3",
   "language": "python",
   "name": "python3"
  },
  "language_info": {
   "codemirror_mode": {
    "name": "ipython",
    "version": 3
   },
   "file_extension": ".py",
   "mimetype": "text/x-python",
   "name": "python",
   "nbconvert_exporter": "python",
   "pygments_lexer": "ipython3",
   "version": "3.11.3"
  },
  "orig_nbformat": 4
 },
 "nbformat": 4,
 "nbformat_minor": 2
}
